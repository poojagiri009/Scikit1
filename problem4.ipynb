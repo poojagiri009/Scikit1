{
 "cells": [
  {
   "cell_type": "code",
   "execution_count": 1,
   "id": "c25c1451-6c84-4058-b834-954b4e3e0e35",
   "metadata": {},
   "outputs": [
    {
     "name": "stdout",
     "output_type": "stream",
     "text": [
      "[ 1.23071715 -0.04010441  2.21970287  1.34966889  1.28429336  0.02248402\n",
      "  1.05726124  1.82403704  1.36824643  1.06766437  1.70031437 -0.07357413\n",
      " -0.15562919 -0.06569402 -0.02128628  1.39659966  2.00022876  1.04812731\n",
      "  1.28102792  1.97283506  0.03184612  1.59830192  0.09450931  1.91807547\n",
      "  1.83296682  1.87877315  1.78781234  2.03362373  0.03594506  0.02619043]\n",
      "model intercept : 0.2525275898181488\n",
      "model coefficients :  [-0.11633479 -0.05977785  0.25491375  0.54759598]\n",
      "Model score :  0.9299538012397455\n"
     ]
    }
   ],
   "source": [
    "# Import packages \n",
    "from sklearn.linear_model import LinearRegression \n",
    "from sklearn.model_selection import train_test_split \n",
    "from sklearn.datasets import load_iris \n",
    "  \n",
    "# Load the data \n",
    "irisData = load_iris() \n",
    "  \n",
    "# Create feature and target arrays \n",
    "X = irisData.data \n",
    "y = irisData.target \n",
    "  \n",
    "# Split data into train and test sets \n",
    "X_train, X_test, y_train, y_test = train_test_split( \n",
    "    X, y, test_size=0.2, random_state=42) \n",
    "  \n",
    "model = LinearRegression() \n",
    "  \n",
    "model.fit(X_train, y_train) \n",
    "  \n",
    "# predicting on the X_test data set \n",
    "print(model.predict(X_test)) \n",
    "  \n",
    "# summary of the model \n",
    "print('model intercept :', model.intercept_) \n",
    "print('model coefficients : ', model.coef_) \n",
    "print('Model score : ', model.score(X, y)) "
   ]
  },
  {
   "cell_type": "code",
   "execution_count": 29,
   "id": "218f7e12-f75e-472f-9845-ddfb92eca127",
   "metadata": {},
   "outputs": [
    {
     "name": "stdout",
     "output_type": "stream",
     "text": [
      "   Gender  Age Range  Head Size(cm^3)  Brain Weight(grams)\n",
      "0       1          1             4512                 1530\n",
      "1       1          1             3738                 1297\n",
      "2       1          1             4261                 1335\n",
      "3       1          1             3777                 1282\n",
      "4       1          1             4177                 1590\n",
      "                            OLS Regression Results                            \n",
      "==============================================================================\n",
      "Dep. Variable:              Head_size   R-squared:                       0.639\n",
      "Model:                            OLS   Adj. R-squared:                  0.638\n",
      "Method:                 Least Squares   F-statistic:                     416.5\n",
      "Date:                Tue, 04 Jun 2024   Prob (F-statistic):           5.96e-54\n",
      "Time:                        23:54:45   Log-Likelihood:                -1613.4\n",
      "No. Observations:                 237   AIC:                             3231.\n",
      "Df Residuals:                     235   BIC:                             3238.\n",
      "Df Model:                           1                                         \n",
      "Covariance Type:            nonrobust                                         \n",
      "================================================================================\n",
      "                   coef    std err          t      P>|t|      [0.025      0.975]\n",
      "--------------------------------------------------------------------------------\n",
      "Intercept      520.6101    153.215      3.398      0.001     218.759     822.461\n",
      "Brain_weight     2.4269      0.119     20.409      0.000       2.193       2.661\n",
      "==============================================================================\n",
      "Omnibus:                        2.687   Durbin-Watson:                   1.726\n",
      "Prob(Omnibus):                  0.261   Jarque-Bera (JB):                2.321\n",
      "Skew:                           0.207   Prob(JB):                        0.313\n",
      "Kurtosis:                       3.252   Cond. No.                     1.38e+04\n",
      "==============================================================================\n",
      "\n",
      "Notes:\n",
      "[1] Standard Errors assume that the covariance matrix of the errors is correctly specified.\n",
      "[2] The condition number is large, 1.38e+04. This might indicate that there are\n",
      "strong multicollinearity or other numerical problems.\n"
     ]
    }
   ],
   "source": [
    "# import packages \n",
    "import numpy as np \n",
    "import pandas as pd \n",
    "import statsmodels.formula.api as smf \n",
    "  \n",
    "# loading the csv file \n",
    "df = pd.read_csv('/Users/Pooja/Downloads/headbrain.csv') \n",
    "print(df.head()) \n",
    "  \n",
    "# fitting the model \n",
    "df.columns = ['Gender','Age Range','Head_size', 'Brain_weight'] \n",
    "model = smf.ols(formula='Head_size ~ Brain_weight', \n",
    "                data=df).fit() \n",
    "  \n",
    "# model summary \n",
    "print(model.summary())"
   ]
  }
 ],
 "metadata": {
  "kernelspec": {
   "display_name": "Python 3 (ipykernel)",
   "language": "python",
   "name": "python3"
  },
  "language_info": {
   "codemirror_mode": {
    "name": "ipython",
    "version": 3
   },
   "file_extension": ".py",
   "mimetype": "text/x-python",
   "name": "python",
   "nbconvert_exporter": "python",
   "pygments_lexer": "ipython3",
   "version": "3.11.7"
  }
 },
 "nbformat": 4,
 "nbformat_minor": 5
}
