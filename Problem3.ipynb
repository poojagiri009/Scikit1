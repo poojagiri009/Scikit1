{
 "cells": [
  {
   "cell_type": "code",
   "execution_count": 12,
   "id": "4637caac-8ed0-4cff-a175-b800f279a093",
   "metadata": {},
   "outputs": [],
   "source": [
    "\n",
    "import pandas as pd \n",
    "import numpy as np \n",
    "import seaborn as sns \n",
    "\n",
    "from sklearn.preprocessing import LabelEncoder \n",
    "from sklearn.preprocessing import OneHotEncoder \n",
    "from sklearn.model_selection import train_test_split \n",
    "from sklearn.preprocessing import StandardScaler \n",
    "from matplotlib import pyplot as plt\n",
    "import seaborn as sn \n",
    "\n",
    "  \n",
    "dataset = pd.read_csv('/Users/pooja/Downloads/Churn_Modelling.csv')\n",
    "\n",
    "# plt.figure(figsize=(12,6)) \n",
    "  \n",
    "# sn.heatmap(dataset.corr(), \n",
    "#             cmap='BrBG', \n",
    "#             fmt='.2f', \n",
    "#             linewidths=2, \n",
    "#             annot=True)\n",
    "\n",
    "# lis = ['CreditScore', 'Age', 'Balance', 'EstimatedSalary'] \n",
    "# plt.subplots(figsize=(15, 8)) \n",
    "# index = 1\n",
    "  \n",
    "# for i in lis: \n",
    "#     plt.subplot(2, 2, index) \n",
    "#     sns.distplot(dataset[i]) \n",
    "#     index += 1\n",
    "\n",
    "# lis2 = ['Geography', 'Gender'] \n",
    "# plt.subplots(figsize=(10, 5)) \n",
    "# index = 1\n",
    "  \n",
    "# for col in lis2: \n",
    "#     y = dataset[col].value_counts() \n",
    "#     plt.subplot(1, 2, index) \n",
    "#     plt.xticks(rotation=90) \n",
    "#     sns.barplot(x=list(y.index), y=y) \n",
    "#     index += 1\n",
    "\n",
    "\n",
    "dataset.isnull().any() \n",
    "\n",
    "dataset[\"Geography\"].fillna(dataset[\"Geography\"].mode()[0],inplace = True) \n",
    "dataset[\"Gender\"].fillna(dataset[\"Gender\"].mode()[0],inplace = True) \n",
    "dataset[\"Age\"].fillna(dataset[\"Age\"].mean(),inplace = True)\n",
    "\n",
    "dataset.isnull().any()\n",
    "\n",
    "le = LabelEncoder() \n",
    "dataset['Geography'] = le.fit_transform(dataset[\"Geography\"]) \n",
    "dataset['Gender'] = le.fit_transform(dataset[\"Gender\"]) \n",
    "\n",
    "\n",
    "x = dataset.iloc[:,3:13].values \n",
    "y = dataset.iloc[:,13:14].values\n",
    "\n",
    "\n",
    "x_train, x_test, y_train, y_test = train_test_split(x,y, \n",
    "                                                    test_size = 0.2,  \n",
    "                                                    random_state = 0)\n",
    "\n",
    "sc = StandardScaler() \n",
    "x_train = sc.fit_transform(x_train) \n",
    "x_test = sc.fit_transform(x_test)"
   ]
  },
  {
   "cell_type": "code",
   "execution_count": 14,
   "id": "e35e53e3-87fe-4e23-bd57-3b2d4ea59704",
   "metadata": {},
   "outputs": [
    {
     "name": "stderr",
     "output_type": "stream",
     "text": [
      "/tmp/ipykernel_81208/681199550.py:17: DataConversionWarning: A column-vector y was passed when a 1d array was expected. Please change the shape of y to (n_samples,), for example using ravel().\n",
      "  clf.fit(x_train, y_train)\n",
      "/opt/anaconda3/lib/python3.11/site-packages/sklearn/neighbors/_classification.py:215: DataConversionWarning: A column-vector y was passed when a 1d array was expected. Please change the shape of y to (n_samples,), for example using ravel().\n",
      "  return self._fit(X, y)\n",
      "/opt/anaconda3/lib/python3.11/site-packages/sklearn/utils/validation.py:1143: DataConversionWarning: A column-vector y was passed when a 1d array was expected. Please change the shape of y to (n_samples, ), for example using ravel().\n",
      "  y = column_or_1d(y, warn=True)\n"
     ]
    },
    {
     "name": "stdout",
     "output_type": "stream",
     "text": [
      "Accuracy score of  RandomForestClassifier = 84.5\n",
      "Accuracy score of  KNeighborsClassifier = 82.45\n",
      "Accuracy score of  SVC = 86.15\n",
      "Accuracy score of  LogisticRegression = 80.75\n"
     ]
    },
    {
     "name": "stderr",
     "output_type": "stream",
     "text": [
      "/opt/anaconda3/lib/python3.11/site-packages/sklearn/utils/validation.py:1143: DataConversionWarning: A column-vector y was passed when a 1d array was expected. Please change the shape of y to (n_samples, ), for example using ravel().\n",
      "  y = column_or_1d(y, warn=True)\n"
     ]
    }
   ],
   "source": [
    "from sklearn.neighbors import KNeighborsClassifier \n",
    "from sklearn.ensemble import RandomForestClassifier \n",
    "from sklearn.svm import SVC \n",
    "from sklearn.linear_model import LogisticRegression \n",
    "  \n",
    "from sklearn import metrics \n",
    "  \n",
    "knn = KNeighborsClassifier(n_neighbors=3) \n",
    "rfc = RandomForestClassifier(n_estimators = 7, \n",
    "                             criterion = 'entropy', \n",
    "                             random_state =7) \n",
    "svc = SVC() \n",
    "lc = LogisticRegression() \n",
    "  \n",
    "# making predictions on the training set \n",
    "for clf in (rfc, knn, svc,lc): \n",
    "    clf.fit(x_train, y_train) \n",
    "    y_pred = clf.predict(x_test) \n",
    "    print(\"Accuracy score of \",clf.__class__.__name__,\"=\", \n",
    "          100*metrics.accuracy_score(y_test, y_pred))"
   ]
  },
  {
   "cell_type": "code",
   "execution_count": null,
   "id": "845c3884-ca1d-44b8-bdd8-90d70461d693",
   "metadata": {},
   "outputs": [],
   "source": []
  }
 ],
 "metadata": {
  "kernelspec": {
   "display_name": "Python 3 (ipykernel)",
   "language": "python",
   "name": "python3"
  },
  "language_info": {
   "codemirror_mode": {
    "name": "ipython",
    "version": 3
   },
   "file_extension": ".py",
   "mimetype": "text/x-python",
   "name": "python",
   "nbconvert_exporter": "python",
   "pygments_lexer": "ipython3",
   "version": "3.11.7"
  }
 },
 "nbformat": 4,
 "nbformat_minor": 5
}
